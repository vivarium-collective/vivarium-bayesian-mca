{
 "cells": [
  {
   "cell_type": "code",
   "execution_count": 1,
   "id": "initial_id",
   "metadata": {
    "collapsed": true,
    "ExecuteTime": {
     "end_time": "2024-01-09T22:55:52.011716Z",
     "start_time": "2024-01-09T22:55:51.679337Z"
    }
   },
   "outputs": [],
   "source": [
    "from bigraph_viz import plot_bigraph\n",
    "# from processes.cobra import CobraProcess"
   ]
  },
  {
   "cell_type": "code",
   "execution_count": 2,
   "outputs": [],
   "source": [
    "from process_bigraph import types as core"
   ],
   "metadata": {
    "collapsed": false,
    "ExecuteTime": {
     "end_time": "2024-01-09T22:55:58.304425Z",
     "start_time": "2024-01-09T22:55:58.151533Z"
    }
   },
   "id": "d16462cd2f56dfa9"
  },
  {
   "cell_type": "code",
   "execution_count": 3,
   "outputs": [
    {
     "name": "stdout",
     "output_type": "stream",
     "text": [
      "Help on ProcessTypes in module process_bigraph.type_system object:\n",
      "\n",
      "class ProcessTypes(bigraph_schema.type_system.TypeSystem)\n",
      " |  Method resolution order:\n",
      " |      ProcessTypes\n",
      " |      bigraph_schema.type_system.TypeSystem\n",
      " |      builtins.object\n",
      " |  \n",
      " |  Methods defined here:\n",
      " |  \n",
      " |  __init__(self)\n",
      " |      Initialize self.  See help(type(self)) for accurate signature.\n",
      " |  \n",
      " |  dehydrate(self, schema)\n",
      " |  \n",
      " |  infer_edge(self, schema, wires)\n",
      " |  \n",
      " |  infer_schema(self, schema, state, top_state=None, path=None)\n",
      " |      Given a schema fragment and an existing state with _type keys,\n",
      " |      return the full schema required to describe that state,\n",
      " |      and whatever state was hydrated (processes/steps) during this process\n",
      " |  \n",
      " |  initialize_edge_state(self, schema, path, edge)\n",
      " |  \n",
      " |  lookup_address(self, address)\n",
      " |  \n",
      " |  ----------------------------------------------------------------------\n",
      " |  Methods inherited from bigraph_schema.type_system.TypeSystem:\n",
      " |  \n",
      " |  access(self, type_key)\n",
      " |  \n",
      " |  apply(self, original_schema, initial, update)\n",
      " |  \n",
      " |  apply_update(self, schema, state, update)\n",
      " |  \n",
      " |  check(self, initial_schema, state)\n",
      " |  \n",
      " |  check_state(self, schema, state)\n",
      " |  \n",
      " |  complete(self, initial_schema, initial_state)\n",
      " |  \n",
      " |  compose(self, a, b)\n",
      " |  \n",
      " |  default(self, schema)\n",
      " |  \n",
      " |  deserialize(self, schema, encoded)\n",
      " |  \n",
      " |  divide(self, schema, state, ratios=(0.5, 0.5))\n",
      " |  \n",
      " |  fill(self, original_schema, state=None)\n",
      " |  \n",
      " |  fill_ports(self, schema, wires=None, state=None, top=None, path=None)\n",
      " |  \n",
      " |  fill_state(self, schema, state=None, top=None, path=None, type_key=None, context=None)\n",
      " |  \n",
      " |  find_registry(self, underscore_key)\n",
      " |      Find the registry for a given underscore key\n",
      " |  \n",
      " |  hydrate(self, schema, state)\n",
      " |  \n",
      " |  hydrate_state(self, schema, state)\n",
      " |  \n",
      " |  infer_wires(self, ports, state, wires, top_schema=None, path=None)\n",
      " |  \n",
      " |  link_place(self, place, link)\n",
      " |  \n",
      " |  match(self, original_schema, state, pattern, mode='first', path=())\n",
      " |      find the path or paths to any instances of a given\n",
      " |      given pattern in the tree.\n",
      " |      \n",
      " |      \"mode\" can be a few things:\n",
      " |      * immediate: only match top level\n",
      " |      * first: only return the first match\n",
      " |      * random: return a random match of all that matched\n",
      " |      * all (or any other value): return every match in the tree\n",
      " |  \n",
      " |  match_node(self, schema, state, pattern)\n",
      " |  \n",
      " |  match_recur(self, schema, state, pattern, mode='first', path=())\n",
      " |  \n",
      " |  ports_schema(self, schema, instance, edge_path, ports_key='inputs')\n",
      " |  \n",
      " |  project(self, ports, wires, path, states)\n",
      " |  \n",
      " |  project_edge(self, schema, instance, edge_path, states, ports_key='outputs')\n",
      " |      Given states from the perspective of an edge (through its ports), produce states aligned to the tree\n",
      " |        the wires point to.\n",
      " |        (inverse of view)\n",
      " |  \n",
      " |  query(self, schema, instance, redex)\n",
      " |  \n",
      " |  react(self, schema, state, reaction, mode='random')\n",
      " |  \n",
      " |  register(self, type_data)\n",
      " |  \n",
      " |  serialize(self, schema, state)\n",
      " |  \n",
      " |  set(self, original_schema, initial, update)\n",
      " |  \n",
      " |  set_update(self, schema, state, update)\n",
      " |  \n",
      " |  validate_schema(self, schema, enforce_connections=False)\n",
      " |  \n",
      " |  validate_state(self, original_schema, state)\n",
      " |      # TODO: if its an edge, ensure ports match wires\n",
      " |  \n",
      " |  view(self, schema, wires, path, instance)\n",
      " |  \n",
      " |  view_edge(self, schema, instance, edge_path=None, ports_key='inputs')\n",
      " |      project the state of the current instance into a form the edge expects, based on its ports.\n",
      " |  \n",
      " |  ----------------------------------------------------------------------\n",
      " |  Data descriptors inherited from bigraph_schema.type_system.TypeSystem:\n",
      " |  \n",
      " |  __dict__\n",
      " |      dictionary for instance variables (if defined)\n",
      " |  \n",
      " |  __weakref__\n",
      " |      list of weak references to the object (if defined)\n"
     ]
    }
   ],
   "source": [
    "help(core)"
   ],
   "metadata": {
    "collapsed": false,
    "ExecuteTime": {
     "end_time": "2024-01-09T22:56:05.209249Z",
     "start_time": "2024-01-09T22:56:05.193673Z"
    }
   },
   "id": "df137dc6a21ee2f2"
  },
  {
   "cell_type": "code",
   "execution_count": 4,
   "outputs": [],
   "source": [
    "fba_schema = {\n",
    "'fba': {\n",
    "            '_type': 'process',\n",
    "            'address': 'local:cobra',\n",
    "            'config': {\n",
    "                'model_file': 'cobra_process/models/e_coli_core.xml'\n",
    "            },\n",
    "            'inputs': {\n",
    "                'model': ['model_store'],\n",
    "                'reaction_bounds': ['reaction_bounds_store'],\n",
    "            },\n",
    "            'outputs': {\n",
    "                'fluxes': ['fluxes_store'],\n",
    "                'objective_value': ['objective_value_store'],\n",
    "                'reaction_dual_values': ['reaction_dual_values_store'],\n",
    "                'metabolite_dual_values': ['metabolite_dual_values_store'],\n",
    "            }\n",
    "        },\n",
    "}"
   ],
   "metadata": {
    "collapsed": false,
    "ExecuteTime": {
     "end_time": "2024-01-04T22:37:24.573498Z",
     "start_time": "2024-01-04T22:37:24.563070Z"
    }
   },
   "id": "f98d887c5fce19a9"
  },
  {
   "cell_type": "code",
   "execution_count": 6,
   "outputs": [
    {
     "data": {
      "image/svg+xml": "<?xml version=\"1.0\" encoding=\"UTF-8\" standalone=\"no\"?>\n<!DOCTYPE svg PUBLIC \"-//W3C//DTD SVG 1.1//EN\"\n \"http://www.w3.org/Graphics/SVG/1.1/DTD/svg11.dtd\">\n<!-- Generated by graphviz version 8.1.0 (20230707.0739)\n -->\n<!-- Title: bigraph Pages: 1 -->\n<svg width=\"864pt\" height=\"266pt\"\n viewBox=\"0.00 0.00 888.77 273.92\" xmlns=\"http://www.w3.org/2000/svg\" xmlns:xlink=\"http://www.w3.org/1999/xlink\">\n<g id=\"graph0\" class=\"graph\" transform=\"scale(0.972222 0.972222) rotate(0) translate(4 269.92)\">\n<title>bigraph</title>\n<polygon fill=\"white\" stroke=\"none\" points=\"-4,4 -4,-269.92 884.77,-269.92 884.77,4 -4,4\"/>\n<!-- (&#39;fba&#39;,) -->\n<g id=\"node1\" class=\"node\">\n<title>(&#39;fba&#39;,)</title>\n<polygon fill=\"none\" stroke=\"black\" stroke-width=\"2\" points=\"388.44,-36 334.44,-36 334.44,0 388.44,0 388.44,-36\"/>\n<text text-anchor=\"start\" x=\"353.94\" y=\"-13.72\" font-family=\"Times,serif\" font-size=\"12.00\">fba</text>\n</g>\n<!-- (&#39;model_store&#39;,) -->\n<g id=\"node2\" class=\"node\">\n<title>(&#39;model_store&#39;,)</title>\n<ellipse fill=\"none\" stroke=\"black\" stroke-width=\"2\" cx=\"40.44\" cy=\"-174.58\" rx=\"40.44\" ry=\"40.44\"/>\n<text text-anchor=\"start\" x=\"11.56\" y=\"-170.31\" font-family=\"Times,serif\" font-size=\"12.00\">model_store</text>\n</g>\n<!-- (&#39;model_store&#39;,)&#45;&gt;(&#39;fba&#39;,) -->\n<g id=\"edge1\" class=\"edge\">\n<title>(&#39;model_store&#39;,)&#45;&gt;(&#39;fba&#39;,)</title>\n<path fill=\"none\" stroke=\"black\" stroke-dasharray=\"5,2\" d=\"M52.83,-135.2C60.6,-116.92 72.43,-96.26 89.44,-83.25 161.65,-28.03 273.84,-19.22 328.82,-18.47\"/>\n<ellipse fill=\"black\" stroke=\"black\" cx=\"331.14\" cy=\"-18.45\" rx=\"2\" ry=\"2\"/>\n<text text-anchor=\"start\" x=\"135.44\" y=\"-55.75\" font-family=\"Times,serif\" font-size=\"10.00\">model</text>\n</g>\n<!-- (&#39;reaction_bounds_store&#39;,) -->\n<g id=\"node3\" class=\"node\">\n<title>(&#39;reaction_bounds_store&#39;,)</title>\n<ellipse fill=\"none\" stroke=\"black\" stroke-width=\"2\" cx=\"169.44\" cy=\"-174.58\" rx=\"70.79\" ry=\"70.79\"/>\n<text text-anchor=\"start\" x=\"116.19\" y=\"-170.31\" font-family=\"Times,serif\" font-size=\"12.00\">reaction_bounds_store</text>\n</g>\n<!-- (&#39;reaction_bounds_store&#39;,)&#45;&gt;(&#39;fba&#39;,) -->\n<g id=\"edge2\" class=\"edge\">\n<title>(&#39;reaction_bounds_store&#39;,)&#45;&gt;(&#39;fba&#39;,)</title>\n<path fill=\"none\" stroke=\"black\" stroke-dasharray=\"5,2\" d=\"M209.53,-115.16C226.55,-93.68 247.86,-70.58 271.19,-54 288.61,-41.61 311.01,-32.9 329.13,-27.26\"/>\n<ellipse fill=\"black\" stroke=\"black\" cx=\"331.25\" cy=\"-26.62\" rx=\"2\" ry=\"2\"/>\n<text text-anchor=\"start\" x=\"271.44\" y=\"-55.75\" font-family=\"Times,serif\" font-size=\"10.00\">reaction_bounds</text>\n</g>\n<!-- (&#39;fluxes_store&#39;,) -->\n<g id=\"node4\" class=\"node\">\n<title>(&#39;fluxes_store&#39;,)</title>\n<ellipse fill=\"none\" stroke=\"black\" stroke-width=\"2\" cx=\"298.44\" cy=\"-174.58\" rx=\"39.97\" ry=\"39.97\"/>\n<text text-anchor=\"start\" x=\"269.94\" y=\"-170.31\" font-family=\"Times,serif\" font-size=\"12.00\">fluxes_store</text>\n</g>\n<!-- (&#39;fluxes_store&#39;,)&#45;&gt;(&#39;fba&#39;,) -->\n<g id=\"edge3\" class=\"edge\">\n<title>(&#39;fluxes_store&#39;,)&#45;&gt;(&#39;fba&#39;,)</title>\n<path fill=\"none\" stroke=\"black\" stroke-dasharray=\"5,2\" d=\"M313.53,-136.56C325.66,-106.79 342.29,-65.97 352.43,-41.09\"/>\n<ellipse fill=\"black\" stroke=\"black\" cx=\"353.3\" cy=\"-38.96\" rx=\"2\" ry=\"2\"/>\n<text text-anchor=\"start\" x=\"346.44\" y=\"-55.75\" font-family=\"Times,serif\" font-size=\"10.00\">fluxes</text>\n</g>\n<!-- (&#39;objective_value_store&#39;,) -->\n<g id=\"node5\" class=\"node\">\n<title>(&#39;objective_value_store&#39;,)</title>\n<ellipse fill=\"none\" stroke=\"black\" stroke-width=\"2\" cx=\"424.44\" cy=\"-174.58\" rx=\"68.45\" ry=\"68.45\"/>\n<text text-anchor=\"start\" x=\"373.06\" y=\"-170.31\" font-family=\"Times,serif\" font-size=\"12.00\">objective_value_store</text>\n</g>\n<!-- (&#39;objective_value_store&#39;,)&#45;&gt;(&#39;fba&#39;,) -->\n<g id=\"edge4\" class=\"edge\">\n<title>(&#39;objective_value_store&#39;,)&#45;&gt;(&#39;fba&#39;,)</title>\n<path fill=\"none\" stroke=\"black\" stroke-dasharray=\"5,2\" d=\"M398.63,-110.26C388.67,-85.82 377.92,-59.45 370.55,-41.37\"/>\n<ellipse fill=\"black\" stroke=\"black\" cx=\"369.7\" cy=\"-39.27\" rx=\"2\" ry=\"2\"/>\n<text text-anchor=\"start\" x=\"380.44\" y=\"-55.75\" font-family=\"Times,serif\" font-size=\"10.00\">objective_value</text>\n</g>\n<!-- (&#39;reaction_dual_values_store&#39;,) -->\n<g id=\"node6\" class=\"node\">\n<title>(&#39;reaction_dual_values_store&#39;,)</title>\n<ellipse fill=\"none\" stroke=\"black\" stroke-width=\"2\" cx=\"595.44\" cy=\"-174.58\" rx=\"84.33\" ry=\"84.33\"/>\n<text text-anchor=\"start\" x=\"531.31\" y=\"-170.31\" font-family=\"Times,serif\" font-size=\"12.00\">reaction_dual_values_store</text>\n</g>\n<!-- (&#39;reaction_dual_values_store&#39;,)&#45;&gt;(&#39;fba&#39;,) -->\n<g id=\"edge5\" class=\"edge\">\n<title>(&#39;reaction_dual_values_store&#39;,)&#45;&gt;(&#39;fba&#39;,)</title>\n<path fill=\"none\" stroke=\"black\" stroke-dasharray=\"5,2\" d=\"M536.71,-112.97C525.43,-102.55 513.39,-92.21 501.44,-83.25 480.53,-67.58 473.99,-65.31 450.44,-54 431.95,-45.12 410.58,-36.66 393.41,-30.28\"/>\n<ellipse fill=\"black\" stroke=\"black\" cx=\"391.49\" cy=\"-29.57\" rx=\"2\" ry=\"2\"/>\n<text text-anchor=\"start\" x=\"472.44\" y=\"-55.75\" font-family=\"Times,serif\" font-size=\"10.00\">reaction_dual_values</text>\n</g>\n<!-- (&#39;metabolite_dual_values_store&#39;,) -->\n<g id=\"node7\" class=\"node\">\n<title>(&#39;metabolite_dual_values_store&#39;,)</title>\n<ellipse fill=\"none\" stroke=\"black\" stroke-width=\"2\" cx=\"789.44\" cy=\"-174.58\" rx=\"91.33\" ry=\"91.33\"/>\n<text text-anchor=\"start\" x=\"719.69\" y=\"-170.31\" font-family=\"Times,serif\" font-size=\"12.00\">metabolite_dual_values_store</text>\n</g>\n<!-- (&#39;metabolite_dual_values_store&#39;,)&#45;&gt;(&#39;fba&#39;,) -->\n<g id=\"edge6\" class=\"edge\">\n<title>(&#39;metabolite_dual_values_store&#39;,)&#45;&gt;(&#39;fba&#39;,)</title>\n<path fill=\"none\" stroke=\"black\" stroke-dasharray=\"5,2\" d=\"M725.62,-108.2C713.96,-98.77 701.37,-89.99 688.44,-83.25 589.94,-31.89 455.25,-21.43 394.06,-19.41\"/>\n<ellipse fill=\"black\" stroke=\"black\" cx=\"391.93\" cy=\"-19.34\" rx=\"2\" ry=\"2\"/>\n<text text-anchor=\"start\" x=\"646.44\" y=\"-55.75\" font-family=\"Times,serif\" font-size=\"10.00\">metabolite_dual_values</text>\n</g>\n</g>\n</svg>\n",
      "text/plain": "<graphviz.graphs.Digraph at 0x10bdd2e20>"
     },
     "execution_count": 6,
     "metadata": {},
     "output_type": "execute_result"
    }
   ],
   "source": [
    "plot_bigraph(fba_schema, show_types=True)"
   ],
   "metadata": {
    "collapsed": false,
    "ExecuteTime": {
     "end_time": "2024-01-04T22:38:19.311976Z",
     "start_time": "2024-01-04T22:38:19.215798Z"
    }
   },
   "id": "25c60ac74a2c57ea"
  },
  {
   "cell_type": "code",
   "execution_count": null,
   "outputs": [],
   "source": [
    "bmfva_schema = {\n",
    "    'bayesian_metabolic_control_analysis': {\n",
    "        '_type': 'process',\n",
    "        'address': 'local:bayesian_metabolic_flux_variability_analysis',\n",
    "        'config': {\n",
    "            'model_file': 'cobra_process/models/e_coli_core.xml',\n",
    "            'samples': 1000,\n",
    "            'burn': 100,\n",
    "            'thin': 10,\n",
    "            'reaction_bounds': {\n",
    "                'EX_glc__D_e': (-10, 0),\n",
    "                'EX_o2_e': (-20, 0),\n",
    "            },\n",
    "            'objective': 'BIOMASS_Ecoli_core_w_GAM',\n",
    "            'objective_direction': 'max',\n",
    "            'fluxes': {\n",
    "                'EX_glc__D_e': 10,\n",
    "                'EX_o2_e': -20,\n",
    "            },\n",
    "        },\n",
    "        'inputs': {\n",
    "            'model': ['model_store'],\n",
    "            'reaction_bounds': ['reaction_bounds_store'],\n",
    "        },\n",
    "        'outputs': {\n",
    "            'fluxes': ['fluxes_store'],\n",
    "            'objective_value': ['objective_value_store'],\n",
    "            'reaction_dual_values': ['reaction_dual_values_store'],\n",
    "            'metabolite_dual_values': ['metabolite_dual_values_store'],\n",
    "        }\n",
    "    },\n",
    "}"
   ],
   "metadata": {
    "collapsed": false
   },
   "id": "9b1b786ce1c9a7b9"
  }
 ],
 "metadata": {
  "kernelspec": {
   "display_name": "Python 3",
   "language": "python",
   "name": "python3"
  },
  "language_info": {
   "codemirror_mode": {
    "name": "ipython",
    "version": 2
   },
   "file_extension": ".py",
   "mimetype": "text/x-python",
   "name": "python",
   "nbconvert_exporter": "python",
   "pygments_lexer": "ipython2",
   "version": "2.7.6"
  }
 },
 "nbformat": 4,
 "nbformat_minor": 5
}
